{
 "cells": [
  {
   "cell_type": "code",
   "execution_count": 17,
   "metadata": {
    "collapsed": true
   },
   "outputs": [],
   "source": [
    "os.environ[\"mongo_server\"] = \"HIDDEN\"\n",
    "os.environ[\"gmaps_api_key\"] =\"HIDDEN\""
   ]
  },
  {
   "cell_type": "code",
   "execution_count": 20,
   "metadata": {
    "collapsed": false
   },
   "outputs": [],
   "source": [
    "import datetime\n",
    "import pandas as pd\n",
    "import numpy as np\n",
    "import os\n",
    "import googlemaps\n",
    "\n",
    "from pymongo import MongoClient\n",
    "from math import radians, cos, sin, asin, sqrt\n",
    "from bson.son import SON\n",
    "\n",
    "\n",
    "MONGO_URL = os.environ[\"mongo_server\"] # Dirección mlab para la base de datos\n",
    "GMAPS_APIKEY = os.environ[\"gmaps_api_key\"]\n",
    "\n",
    "client = MongoClient(MONGO_URL)\n",
    "gmaps = googlemaps.Client(key=GMAPS_APIKEY)\n",
    "\n",
    "db = client.datalab\n",
    "locations = db.locations\n",
    "\n",
    "def get_near_documents(longitude,latitude):\n",
    "    max_distance = 0\n",
    "    objects = 0\n",
    "    while objects <= 10:\n",
    "        max_distance = max_distance + 1000\n",
    "        query = {'geopoint': {\n",
    "        '$near': SON([('$geometry', SON([\n",
    "            ('type', 'Point'),\n",
    "            ('coordinates', [longitude, latitude])])),\n",
    "            ('$maxDistance', max_distance)])}}\n",
    "        response =list(locations.find(query))\n",
    "        objects = len(response)\n",
    "    return response\n",
    "\n",
    "\n",
    "def list_geopoint_extract(place_list):\n",
    "    geopoint = place_list[\"geopoint\"]\n",
    "    longitude = geopoint[\"coordinates\"][0]\n",
    "    latitude = geopoint[\"coordinates\"][1]\n",
    "    return longitude, latitude\n",
    "\n",
    "\n",
    "def haversine(lon1, lat1, lon2, lat2):\n",
    "    lon1, lat1, lon2, lat2 = map(radians, [lon1, lat1, lon2, lat2])\n",
    "    dlon = lon2 - lon1\n",
    "    dlat = lat2 - lat1\n",
    "    a = sin(dlat/2)**2 + cos(lat1) * cos(lat2) * sin(dlon/2)**2\n",
    "    c = 2 * asin(sqrt(a))\n",
    "    m = 6367000 * c\n",
    "    return m\n",
    "\n",
    "\n",
    "def coords_stringify(longitude,latitude):\n",
    "    output = str(latitude) + \",\"+ str(longitude)\n",
    "    return output\n",
    "\n",
    "\n",
    "def get_directions(longitude1, latitude1, longitude2, latitude2, route_type):\n",
    "    try:\n",
    "        dir1string = coords_stringify(longitude1, latitude1)\n",
    "        dir2string= coords_stringify(longitude2, latitude2)\n",
    "        directions_result = gmaps.directions(dir1string,dir2string, mode=route_type, departure_time= datetime.datetime.now())\n",
    "        distance = directions_result[0][\"legs\"][0][\"distance\"][\"value\"]\n",
    "        route = directions_result[0][\"legs\"][0][\"steps\"]\n",
    "    except:\n",
    "        distance = np.nan\n",
    "        route = np.nan\n",
    "    return distance, route\n",
    "\n",
    "def route_distance_info(row,longitude1, latitude1, route_type):\n",
    "    longitude2, latitude2 = list_geopoint_extract(row)\n",
    "    if route_type == \"euclidean\":\n",
    "        distance = haversine(longitude1, latitude1, longitude2, latitude2)\n",
    "        route = np.nan\n",
    "    elif route_type == \"walking\":\n",
    "        distance, route = get_directions(longitude1, latitude1, longitude2, latitude2, \"walking\")\n",
    "    else:\n",
    "        distance, route = get_directions(longitude1, latitude1, longitude2, latitude2, \"driving\")\n",
    "    return distance, route\n",
    "\n",
    "\n",
    "def directions_row(row, longitude1, latitude1, route_type):\n",
    "    row[\"distance\"], row[\"route\"] = route_distance_info(row,longitude1, latitude1, route_type)\n",
    "    return row\n",
    "\n",
    "def find_nearest_top(longitude, latitude, mode, head):\n",
    "    near_places = get_near_documents(longitude, latitude)\n",
    "    dataframe_places = pd.DataFrame(near_places)\n",
    "    dataframe_distances= dataframe_places.apply(directions_row,  axis=1, args =(longitude, latitude, mode))\n",
    "    if mode is not \"euclidean\":\n",
    "        dataframe_distances = dataframe_distances.dropna()\n",
    "    df_distances_top = dataframe_distances.head(head)\n",
    "    return df_distances_top\n",
    "\n",
    "def nearest_response(longitude, latitude, mode, head):\n",
    "    response_df = find_nearest_top(longitude, latitude, mode,head)\n",
    "    response_dict = response_df.to_dict(orient=\"records\")\n",
    "    return(json.dumps(response_dict).replace('\": NaN','\": \"NaN\"'))"
   ]
  },
  {
   "cell_type": "code",
   "execution_count": 21,
   "metadata": {
    "collapsed": false
   },
   "outputs": [
    {
     "name": "stdout",
     "output_type": "stream",
     "text": [
      "      _id  altitud  capacidad                         direccion  \\\n",
      "0    24.0   1000.0       60.0                           ZOATLAN   \n",
      "1    25.0   1000.0       20.0                           ZOATLAN   \n",
      "2    26.0   1000.0       40.0                        LA CIENEGA   \n",
      "3   316.0   1140.0      120.0  AGUSTIN MELGAR ESQ. JUAN ESCUTIA   \n",
      "4   319.0   1140.0      108.0                 EULOGIO PARRA S/N   \n",
      "5    22.0   1000.0      150.0                       MORELOS S/N   \n",
      "6    23.0   1000.0      250.0                       MORELOS S/N   \n",
      "7    18.0   1000.0      200.0                  OAXACA E HIDALGO   \n",
      "8   314.0   1140.0      108.0              HIDALGO NO. 381 PTE.   \n",
      "9    15.0   1000.0      250.0        20 DE NOVIEMBRE Y ZARAGOZA   \n",
      "10   21.0   1000.0      200.0                       HIDALGO S/N   \n",
      "11   20.0   1000.0      400.0                  20 DE NOVIEMBRE    \n",
      "12   14.0   1000.0       80.0                  20 DE NOVIEMBRE    \n",
      "13  313.0   1140.0      136.0              HIDALGO NO. 329 PTE.   \n",
      "\n",
      "                                             geopoint       latitud  \\\n",
      "0   {'type': 'Point', 'coordinates': [-104.4309222...  21ª01'52.14\"   \n",
      "1   {'type': 'Point', 'coordinates': [-104.4309222...  21ª01'52.14\"   \n",
      "2   {'type': 'Point', 'coordinates': [-104.4512666...   21ª02'04.32   \n",
      "3   {'type': 'Point', 'coordinates': [-104.3799027...  21º01'59.59\"   \n",
      "4   {'type': 'Point', 'coordinates': [-104.3791138...  21º02'03.65\"   \n",
      "5   {'type': 'Point', 'coordinates': [-104.4822694...  21ª02'56.84\"   \n",
      "6   {'type': 'Point', 'coordinates': [-104.4825916...  21ª02'57.03\"   \n",
      "7   {'type': 'Point', 'coordinates': [-104.4830055...  21ª03'02.43\"   \n",
      "8   {'type': 'Point', 'coordinates': [-104.3758666...  21º02'11.01\"   \n",
      "9   {'type': 'Point', 'coordinates': [-104.4822944...  21ª03'18.33\"   \n",
      "10  {'type': 'Point', 'coordinates': [-104.4842611...  21ª03'01.70\"   \n",
      "11  {'type': 'Point', 'coordinates': [-104.4837694...  21ª03'07.37\"   \n",
      "12  {'type': 'Point', 'coordinates': [-104.4843055...  21ª03'06.07\"   \n",
      "13  {'type': 'Point', 'coordinates': [-104.3746083...  21º02'10.26\"   \n",
      "\n",
      "         longitud       municipio                              refugio  \\\n",
      "0    104ª25'51.32      AHUACATLAN         ESCUELA PRIMARIA AMADO NERVO   \n",
      "1    104ª25'51.32      AHUACATLAN  ESC. TELESECUNDARIA FRANCISCO VILLA   \n",
      "2   104ª27'04.56\"      AHUACATLAN     ESCUELA PRIMARIA EMILIA CARRANZA   \n",
      "3   104º22'47.65\"  IXTLAN DEL RIO                  C.E.B.T.I.S. No. 27   \n",
      "4   104º22'44.81\"  IXTLAN DEL RIO           ESCUELA PREPARATORIA NO. 6   \n",
      "5   104ª28'56.17\"      AHUACATLAN                         SALON EJIDAL   \n",
      "6   104ª28'57.33\"      AHUACATLAN                        DIF MUNICIPAL   \n",
      "7   104ª28'58.82\"     AHUACATLAN                ESCUELA PLAN DE AYALA    \n",
      "8   104º22'33.12\"  IXTLAN DEL RIO  ESCUELA “JOSEFA ORTIZ DE DOMÍNGUEZ”   \n",
      "9   104ª28'56.26\"     AHUACATLAN         SECUNDARIA FEDERAL REVOLUCION   \n",
      "10  104ª29'03.34\"      AHUACATLAN                   CASA DE LA CULTURA   \n",
      "11  104ª29'01\"57\"     AHUACATLAN               CLUB SOCIAL Y DEPORTIVO   \n",
      "12  104ª29'03.50\"     AHUACATLAN          ESCUELA FRAY PEDRO DE GANTE    \n",
      "13  104º22'28.59\"  IXTLAN DEL RIO            ESCUELA “NARCIZO MENDOZA”   \n",
      "\n",
      "                      responsable                         servicios  \\\n",
      "0          LETICIA LOPEZ JIMENMEZ  AGUA, SANITARIOS Y LUZ ELECTRICA   \n",
      "1          GREGORIA SOLIS CIBRIAN  AGUA, SANITARIOS Y LUZ ELECTRICA   \n",
      "2   MARIA SILVIA CARRILLO ANZALDO  AGUA, SANITARIOS Y LUZ ELECTRICA   \n",
      "3             ALICIA PARRA RIVERA  AGUA, SANITARIOS Y LUZ ELECTRICA   \n",
      "4         LUIS MARTINEZ HERNANDEZ  AGUA, SANITARIOS Y LUZ ELECTRICA   \n",
      "5                FRANCISCO IBARRA  AGUA, SANITARIOS Y LUZ ELECTRICA   \n",
      "6           NORMA ALICIA DOMINGEZ  AGUA, SANITARIOS Y LUZ ELECTRICA   \n",
      "7            ADOLFO PEREZ MACHAIN  AGUA, SANITARIOS Y LUZ ELECTRICA   \n",
      "8    FELIPE IGNACIO FAUSTO FLORES  AGUA, SANITARIOS Y LUZ ELECTRICA   \n",
      "9        MA DEL ROSARIO FIGUEROA   AGUA, SANITARIOS Y LUZ ELECTRICA   \n",
      "10       JUANA DE AGUIRRE NAVIDAD  AGUA, SANITARIOS Y LUZ ELECTRICA   \n",
      "11            RAMON ZEPEDA CRESPO  AGUA, SANITARIOS Y LUZ ELECTRICA   \n",
      "12       MARIA BRUNILDA BAÑUELOS   AGUA, SANITARIOS Y LUZ ELECTRICA   \n",
      "13  DIR. SOCORRO AQUINO HERNANDEZ  AGUA, SANITARIOS Y LUZ ELECTRICA   \n",
      "\n",
      "                                 telefono        uso     distance  route  \n",
      "0                             311-2142276  EDUCACION   495.856105    NaN  \n",
      "1                             311-2142276  EDUCACION   495.856105    NaN  \n",
      "2      PCM: 324-2410986  CEL. 324-1008914  EDUCACION  2117.482253    NaN  \n",
      "3   PCM: 324-2433904   NEXTEL 62*375578*1  EDUCACION  5294.467103    NaN  \n",
      "4   PCM: 324-2433904   NEXTEL 62*375578*1  EDUCACION  5371.429769    NaN  \n",
      "5      PCM: 324-2410986  CEL. 324-1008914     EJIDAL  5536.857177    NaN  \n",
      "6                             324-2410132  MUNICIPAL  5570.614802    NaN  \n",
      "7                           324-241-03-83  EDUCACION  5658.971415    NaN  \n",
      "8                             324-1003182  EDUCACION  5707.010764    NaN  \n",
      "9                      PCM.-324-241-09-86  EDUCACION  5754.576863    NaN  \n",
      "10     PCM: 324-2410986  CEL. 324-1008914   CULTURAL  5777.013750    NaN  \n",
      "11                    PCM.- 324-241-09-86   DEPORTE   5781.025524    NaN  \n",
      "12                          324-241-10-69  EDUCACION  5821.374643    NaN  \n",
      "13                            324-2760293  EDUCACION  5837.215740    NaN  \n"
     ]
    }
   ],
   "source": [
    "a =find_nearest_top(-104.430884, 21.035612, \"euclidean\",3)"
   ]
  },
  {
   "cell_type": "code",
   "execution_count": 35,
   "metadata": {
    "collapsed": false
   },
   "outputs": [],
   "source": [
    "a = nearest_response(-104.430884, 21.035612, \"euclidean\",3)"
   ]
  },
  {
   "cell_type": "code",
   "execution_count": 36,
   "metadata": {
    "collapsed": false
   },
   "outputs": [
    {
     "data": {
      "text/plain": [
       "'[{\"altitud\": 1000.0, \"distance\": 495.8561047673046, \"latitud\": \"21\\\\u00aa01\\'52.14\\\\\"\", \"responsable\": \"LETICIA LOPEZ JIMENMEZ\", \"geopoint\": {\"type\": \"Point\", \"coordinates\": [-104.43092222222221, 21.03115]}, \"refugio\": \"ESCUELA PRIMARIA AMADO NERVO\", \"longitud\": \"104\\\\u00aa25\\'51.32\", \"capacidad\": 60.0, \"telefono\": \"311-2142276\", \"uso\": \"EDUCACION\", \"direccion\": \"ZOATLAN\", \"servicios\": \"AGUA, SANITARIOS Y LUZ ELECTRICA\", \"_id\": 24.0, \"route\": \"NaN\", \"municipio\": \"AHUACATLAN\"}, {\"altitud\": 1000.0, \"distance\": 495.8561047673046, \"latitud\": \"21\\\\u00aa01\\'52.14\\\\\"\", \"responsable\": \"GREGORIA SOLIS CIBRIAN\", \"geopoint\": {\"type\": \"Point\", \"coordinates\": [-104.43092222222221, 21.03115]}, \"refugio\": \"ESC. TELESECUNDARIA FRANCISCO VILLA\", \"longitud\": \"104\\\\u00aa25\\'51.32\", \"capacidad\": 20.0, \"telefono\": \"311-2142276\", \"uso\": \"EDUCACION\", \"direccion\": \"ZOATLAN\", \"servicios\": \"AGUA, SANITARIOS Y LUZ ELECTRICA\", \"_id\": 25.0, \"route\": \"NaN\", \"municipio\": \"AHUACATLAN\"}, {\"altitud\": 1000.0, \"distance\": 2117.482252826639, \"latitud\": \"21\\\\u00aa02\\'04.32\", \"responsable\": \"MARIA SILVIA CARRILLO ANZALDO\", \"geopoint\": {\"type\": \"Point\", \"coordinates\": [-104.45126666666668, 21.034533333333336]}, \"refugio\": \"ESCUELA PRIMARIA EMILIA CARRANZA\", \"longitud\": \"104\\\\u00aa27\\'04.56\\\\\"\", \"capacidad\": 40.0, \"telefono\": \"PCM: 324-2410986  CEL. 324-1008914\", \"uso\": \"EDUCACION\", \"direccion\": \"LA CIENEGA\", \"servicios\": \"AGUA, SANITARIOS Y LUZ ELECTRICA\", \"_id\": 26.0, \"route\": \"NaN\", \"municipio\": \"AHUACATLAN\"}]'"
      ]
     },
     "execution_count": 36,
     "metadata": {},
     "output_type": "execute_result"
    }
   ],
   "source": [
    "a"
   ]
  },
  {
   "cell_type": "code",
   "execution_count": 28,
   "metadata": {
    "collapsed": true
   },
   "outputs": [],
   "source": [
    "import json"
   ]
  },
  {
   "cell_type": "code",
   "execution_count": 24,
   "metadata": {
    "collapsed": false
   },
   "outputs": [],
   "source": [
    "import datetime\n",
    "import os\n",
    "import pandas as pd\n",
    "import numpy as np\n",
    "import googlemaps\n",
    "\n",
    "from pymongo import MongoClient\n",
    "from math import radians, cos, sin, asin, sqrt\n",
    "from bson.son import SON\n",
    "\n",
    "\n",
    "MONGO_URL = os.environ[\"mongo_server\"] # Dirección mlab para la base de datos\n",
    "GMAPS_APIKEY = os.environ[\"gmaps_api_key\"]\n",
    "\n",
    "client = MongoClient(MONGO_URL)\n",
    "gmaps = googlemaps.Client(key=GMAPS_APIKEY)\n",
    "\n",
    "db = client.datalab\n",
    "locations = db.locations\n",
    "\n",
    "def get_near_documents(longitude,latitude):\n",
    "    max_distance = 0\n",
    "    objects = 0\n",
    "    while objects <= 10:\n",
    "        max_distance = max_distance + 1000\n",
    "        query = {'geopoint': {\n",
    "        '$near': SON([('$geometry', SON([\n",
    "            ('type', 'Point'),\n",
    "            ('coordinates', [longitude, latitude])])),\n",
    "            ('$maxDistance', max_distance)])}}\n",
    "        response =list(locations.find(query))\n",
    "        objects = len(response)\n",
    "    return response\n",
    "\n",
    "\n",
    "def list_geopoint_extract(place_list):\n",
    "    geopoint = place_list[\"geopoint\"]\n",
    "    longitude = geopoint[\"coordinates\"][0]\n",
    "    latitude = geopoint[\"coordinates\"][1]\n",
    "    return longitude, latitude\n",
    "\n",
    "\n",
    "def haversine(lon1, lat1, lon2, lat2):\n",
    "    lon1, lat1, lon2, lat2 = map(radians, [lon1, lat1, lon2, lat2])\n",
    "    dlon = lon2 - lon1\n",
    "    dlat = lat2 - lat1\n",
    "    a = sin(dlat/2)**2 + cos(lat1) * cos(lat2) * sin(dlon/2)**2\n",
    "    c = 2 * asin(sqrt(a))\n",
    "    m = 6367000 * c\n",
    "    return m\n",
    "\n",
    "\n",
    "def coords_stringify(longitude,latitude):\n",
    "    output = str(latitude) + \",\"+ str(longitude)\n",
    "    return output\n",
    "\n",
    "\n",
    "def get_directions(longitude1, latitude1, longitude2, latitude2, route_type):\n",
    "    try:\n",
    "        dir1string = coords_stringify(longitude1, latitude1)\n",
    "        dir2string= coords_stringify(longitude2, latitude2)\n",
    "        directions_result = gmaps.directions(dir1string,dir2string, mode=route_type, departure_time= datetime.datetime.now())\n",
    "        distance = directions_result[0][\"legs\"][0][\"distance\"][\"value\"]\n",
    "        route = directions_result[0][\"legs\"][0][\"steps\"]\n",
    "    except:\n",
    "        distance = np.nan\n",
    "        route = np.nan\n",
    "    return distance, route\n",
    "\n",
    "def route_distance_info(row,longitude1, latitude1, route_type):\n",
    "    longitude2, latitude2 = list_geopoint_extract(row)\n",
    "    if route_type == \"euclidean\":\n",
    "        distance = haversine(longitude1, latitude1, longitude2, latitude2)\n",
    "        route = np.nan\n",
    "    elif route_type == \"walking\":\n",
    "        distance, route = get_directions(longitude1, latitude1, longitude2, latitude2, \"walking\")\n",
    "    else:\n",
    "        distance, route = get_directions(longitude1, latitude1, longitude2, latitude2, \"driving\")\n",
    "    return distance, route\n",
    "\n",
    "\n",
    "def directions_row(row, longitude1, latitude1, route_type):\n",
    "    row[\"distance\"], row[\"route\"] = route_distance_info(row,longitude1, latitude1, route_type)\n",
    "    return row\n",
    "\n",
    "\n",
    "def find_nearest_top(longitude, latitude, mode, head):\n",
    "    near_places = get_near_documents(longitude, latitude)\n",
    "    dataframe_places = pd.DataFrame(near_places)\n",
    "    dataframe_distances= dataframe_places.apply(directions_row,  axis=1, args = (longitude, latitude, mode))\n",
    "    if mode is not \"euclidean\":\n",
    "        dataframe_distances = dataframe_distances.dropna()\n",
    "    df_distances_top = dataframe_distances.head(head)\n",
    "    return df_distances_top\n",
    "\n",
    "def nearest_response(longitude, latitude, mode, head):\n",
    "    response_df = find_nearest_top(longitude, latitude, mode, head)\n",
    "    response_dict = response_df.to_dict(orient=\"records\")\n",
    "    return(response_dict)\n"
   ]
  },
  {
   "cell_type": "code",
   "execution_count": 1,
   "metadata": {
    "collapsed": true
   },
   "outputs": [],
   "source": [
    "import os"
   ]
  },
  {
   "cell_type": "code",
   "execution_count": 26,
   "metadata": {
    "collapsed": true
   },
   "outputs": [],
   "source": [
    "os.environ[\"mongo_server\"] = \"HIDDEN\"\n",
    "os.environ[\"gmaps_api_key\"] =\"HIDDEN\""
   ]
  },
  {
   "cell_type": "code",
   "execution_count": 25,
   "metadata": {
    "collapsed": false
   },
   "outputs": [
    {
     "data": {
      "text/plain": [
       "[{'_id': 270.0,\n",
       "  'altitud': 930.0,\n",
       "  'capacidad': 4000.0,\n",
       "  'direccion': 'UNIVERSIDAD AUTONOMA DE NAYARIT',\n",
       "  'distance': 1215.7549166292952,\n",
       "  'geopoint': {'coordinates': [-104.8949027777778, 21.49057777777778],\n",
       "   'type': 'Point'},\n",
       "  'latitud': '21º29\\'26.08\"',\n",
       "  'longitud': '104º53\\'41.65\"',\n",
       "  'municipio': 'TEPIC',\n",
       "  'refugio': 'U.A.N. EN SU TOTALIDAD',\n",
       "  'responsable': 'RECTOR DE LA U.A.N.',\n",
       "  'route': nan,\n",
       "  'servicios': 'AGUA, SANITARIOS Y LUZ ELECTRICA',\n",
       "  'telefono': '311-2118800',\n",
       "  'uso': 'EDUCACION'},\n",
       " {'_id': 267.0,\n",
       "  'altitud': 930.0,\n",
       "  'capacidad': 300.0,\n",
       "  'direccion': 'BOULEVARD TEPIC-XALISCO S/N',\n",
       "  'distance': 1230.9234847038351,\n",
       "  'geopoint': {'coordinates': [-104.89510833333334, 21.489744444444447],\n",
       "   'type': 'Point'},\n",
       "  'latitud': '21º29\\'23.08\"',\n",
       "  'longitud': '104º53\\'42.39\"',\n",
       "  'municipio': 'TEPIC',\n",
       "  'refugio': 'COLEGIO CRISTÓBAL COLON',\n",
       "  'responsable': 'ROBERTO ALDRETE PADILLA ',\n",
       "  'route': nan,\n",
       "  'servicios': 'AGUA, SANITARIOS Y LUZ ELECTRICA',\n",
       "  'telefono': '311-2131314',\n",
       "  'uso': 'EDUCACION'},\n",
       " {'_id': 269.0,\n",
       "  'altitud': 930.0,\n",
       "  'capacidad': 500.0,\n",
       "  'direccion': 'UNIVERSIDAD AUTONOMA DE NAYARIT',\n",
       "  'distance': 1629.022279250071,\n",
       "  'geopoint': {'coordinates': [-104.8902527777778, 21.49546666666667],\n",
       "   'type': 'Point'},\n",
       "  'latitud': '21º29\\'43.68\"',\n",
       "  'longitud': '104º53\\'24.91\"',\n",
       "  'municipio': 'TEPIC',\n",
       "  'refugio': 'PRIMARIO UAN PREPARATORIA No,1',\n",
       "  'responsable': 'DIRECTOR DEL PLANTEL',\n",
       "  'route': nan,\n",
       "  'servicios': 'AGUA, SANITARIOS Y LUZ ELECTRICA',\n",
       "  'telefono': '311-2118828',\n",
       "  'uso': 'EDUCACION'}]"
      ]
     },
     "execution_count": 25,
     "metadata": {},
     "output_type": "execute_result"
    }
   ],
   "source": [
    "nearest_response(-104.90595817565918,21.494302974868788, \"euclidean\", 3)"
   ]
  },
  {
   "cell_type": "code",
   "execution_count": null,
   "metadata": {
    "collapsed": true
   },
   "outputs": [],
   "source": []
  }
 ],
 "metadata": {
  "kernelspec": {
   "display_name": "Python 3",
   "language": "python",
   "name": "python3"
  },
  "language_info": {
   "codemirror_mode": {
    "name": "ipython",
    "version": 3
   },
   "file_extension": ".py",
   "mimetype": "text/x-python",
   "name": "python",
   "nbconvert_exporter": "python",
   "pygments_lexer": "ipython3",
   "version": "3.4.1"
  }
 },
 "nbformat": 4,
 "nbformat_minor": 0
}
